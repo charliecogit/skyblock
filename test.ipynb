{
 "cells": [
  {
   "cell_type": "code",
   "execution_count": 3,
   "outputs": [],
   "source": [
    "import numpy as np\n",
    "\n",
    "a = np.linspace(0,1,5)"
   ],
   "metadata": {
    "collapsed": false,
    "pycharm": {
     "name": "#%%\n"
    }
   }
  },
  {
   "cell_type": "code",
   "execution_count": 5,
   "outputs": [],
   "source": [
    "x,y=np.meshgrid(a,a)"
   ],
   "metadata": {
    "collapsed": false,
    "pycharm": {
     "name": "#%%\n"
    }
   }
  },
  {
   "cell_type": "code",
   "execution_count": 6,
   "outputs": [
    {
     "data": {
      "text/plain": "array([[0.  , 0.25, 0.5 , 0.75, 1.  ],\n       [0.  , 0.25, 0.5 , 0.75, 1.  ],\n       [0.  , 0.25, 0.5 , 0.75, 1.  ],\n       [0.  , 0.25, 0.5 , 0.75, 1.  ],\n       [0.  , 0.25, 0.5 , 0.75, 1.  ]])"
     },
     "execution_count": 6,
     "metadata": {},
     "output_type": "execute_result"
    }
   ],
   "source": [
    "x"
   ],
   "metadata": {
    "collapsed": false,
    "pycharm": {
     "name": "#%%\n"
    }
   }
  },
  {
   "cell_type": "code",
   "execution_count": 7,
   "outputs": [
    {
     "data": {
      "text/plain": "array([[0.  , 0.  , 0.  , 0.  , 0.  ],\n       [0.25, 0.25, 0.25, 0.25, 0.25],\n       [0.5 , 0.5 , 0.5 , 0.5 , 0.5 ],\n       [0.75, 0.75, 0.75, 0.75, 0.75],\n       [1.  , 1.  , 1.  , 1.  , 1.  ]])"
     },
     "execution_count": 7,
     "metadata": {},
     "output_type": "execute_result"
    }
   ],
   "source": [
    "y"
   ],
   "metadata": {
    "collapsed": false,
    "pycharm": {
     "name": "#%%\n"
    }
   }
  },
  {
   "cell_type": "code",
   "execution_count": 12,
   "outputs": [],
   "source": [
    "pt = list(zip(x.flat,y.flat))"
   ],
   "metadata": {
    "collapsed": false,
    "pycharm": {
     "name": "#%%\n"
    }
   }
  },
  {
   "cell_type": "code",
   "execution_count": 13,
   "outputs": [
    {
     "data": {
      "text/plain": "[(0.0, 0.0),\n (0.25, 0.0),\n (0.5, 0.0),\n (0.75, 0.0),\n (1.0, 0.0),\n (0.0, 0.25),\n (0.25, 0.25),\n (0.5, 0.25),\n (0.75, 0.25),\n (1.0, 0.25),\n (0.0, 0.5),\n (0.25, 0.5),\n (0.5, 0.5),\n (0.75, 0.5),\n (1.0, 0.5),\n (0.0, 0.75),\n (0.25, 0.75),\n (0.5, 0.75),\n (0.75, 0.75),\n (1.0, 0.75),\n (0.0, 1.0),\n (0.25, 1.0),\n (0.5, 1.0),\n (0.75, 1.0),\n (1.0, 1.0)]"
     },
     "execution_count": 13,
     "metadata": {},
     "output_type": "execute_result"
    }
   ],
   "source": [
    "pt"
   ],
   "metadata": {
    "collapsed": false,
    "pycharm": {
     "name": "#%%\n"
    }
   }
  },
  {
   "cell_type": "code",
   "execution_count": 17,
   "outputs": [],
   "source": [
    "y=np.array(pt)"
   ],
   "metadata": {
    "collapsed": false,
    "pycharm": {
     "name": "#%%\n"
    }
   }
  },
  {
   "cell_type": "code",
   "execution_count": 18,
   "outputs": [
    {
     "data": {
      "text/plain": "(25, 2)"
     },
     "execution_count": 18,
     "metadata": {},
     "output_type": "execute_result"
    }
   ],
   "source": [
    "y.shape"
   ],
   "metadata": {
    "collapsed": false,
    "pycharm": {
     "name": "#%%\n"
    }
   }
  },
  {
   "cell_type": "code",
   "execution_count": 19,
   "outputs": [
    {
     "data": {
      "text/plain": "array([[0.  , 0.  ],\n       [0.25, 0.  ],\n       [0.5 , 0.  ],\n       [0.75, 0.  ],\n       [1.  , 0.  ],\n       [0.  , 0.25],\n       [0.25, 0.25],\n       [0.5 , 0.25],\n       [0.75, 0.25],\n       [1.  , 0.25],\n       [0.  , 0.5 ],\n       [0.25, 0.5 ],\n       [0.5 , 0.5 ],\n       [0.75, 0.5 ],\n       [1.  , 0.5 ],\n       [0.  , 0.75],\n       [0.25, 0.75],\n       [0.5 , 0.75],\n       [0.75, 0.75],\n       [1.  , 0.75],\n       [0.  , 1.  ],\n       [0.25, 1.  ],\n       [0.5 , 1.  ],\n       [0.75, 1.  ],\n       [1.  , 1.  ]])"
     },
     "execution_count": 19,
     "metadata": {},
     "output_type": "execute_result"
    }
   ],
   "source": [
    "y"
   ],
   "metadata": {
    "collapsed": false,
    "pycharm": {
     "name": "#%%\n"
    }
   }
  },
  {
   "cell_type": "code",
   "execution_count": 25,
   "outputs": [],
   "source": [
    "z=np.expand_dims(y,axis=1)\n"
   ],
   "metadata": {
    "collapsed": false,
    "pycharm": {
     "name": "#%%\n"
    }
   }
  },
  {
   "cell_type": "code",
   "execution_count": 26,
   "outputs": [
    {
     "data": {
      "text/plain": "array([[[0.  , 0.  ]],\n\n       [[0.25, 0.  ]],\n\n       [[0.5 , 0.  ]],\n\n       [[0.75, 0.  ]],\n\n       [[1.  , 0.  ]],\n\n       [[0.  , 0.25]],\n\n       [[0.25, 0.25]],\n\n       [[0.5 , 0.25]],\n\n       [[0.75, 0.25]],\n\n       [[1.  , 0.25]],\n\n       [[0.  , 0.5 ]],\n\n       [[0.25, 0.5 ]],\n\n       [[0.5 , 0.5 ]],\n\n       [[0.75, 0.5 ]],\n\n       [[1.  , 0.5 ]],\n\n       [[0.  , 0.75]],\n\n       [[0.25, 0.75]],\n\n       [[0.5 , 0.75]],\n\n       [[0.75, 0.75]],\n\n       [[1.  , 0.75]],\n\n       [[0.  , 1.  ]],\n\n       [[0.25, 1.  ]],\n\n       [[0.5 , 1.  ]],\n\n       [[0.75, 1.  ]],\n\n       [[1.  , 1.  ]]])"
     },
     "execution_count": 26,
     "metadata": {},
     "output_type": "execute_result"
    }
   ],
   "source": [
    "z"
   ],
   "metadata": {
    "collapsed": false,
    "pycharm": {
     "name": "#%%\n"
    }
   }
  },
  {
   "cell_type": "code",
   "execution_count": null,
   "outputs": [],
   "source": [
    "\n"
   ],
   "metadata": {
    "collapsed": false,
    "pycharm": {
     "name": "#%%\n"
    }
   }
  }
 ],
 "metadata": {
  "kernelspec": {
   "display_name": "Python 3",
   "language": "python",
   "name": "python3"
  },
  "language_info": {
   "codemirror_mode": {
    "name": "ipython",
    "version": 2
   },
   "file_extension": ".py",
   "mimetype": "text/x-python",
   "name": "python",
   "nbconvert_exporter": "python",
   "pygments_lexer": "ipython2",
   "version": "2.7.6"
  }
 },
 "nbformat": 4,
 "nbformat_minor": 0
}