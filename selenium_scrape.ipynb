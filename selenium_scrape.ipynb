{
 "cells": [
  {
   "cell_type": "code",
   "execution_count": null,
   "metadata": {
    "collapsed": true,
    "pycharm": {
     "name": "#%%\n"
    }
   },
   "outputs": [],
   "source": [
    "from selenium import webdriver\n",
    "import requests\n",
    "import re\n",
    "import pandas as pd\n",
    "import plotly.graph_objects as go\n",
    "import time\n",
    "import plotly.express as px\n",
    "import itertools as it"
   ]
  },
  {
   "cell_type": "code",
   "execution_count": null,
   "outputs": [],
   "source": [
    "class WebDriver:\n",
    "    def __init__(self, driver):\n",
    "        self.driver = driver\n",
    "\n",
    "    def __enter__(self):\n",
    "        return self.driver\n",
    "\n",
    "    def __exit__(self, exc_type, exc_val, exc_tb):\n",
    "        self.driver.quit()\n",
    "\n",
    "df = None\n",
    "items = requests.get(\"https://api.slothpixel.me/api/skyblock/items\").json()\n",
    "bazaar_items = []\n",
    "for k, v in items.items():\n",
    "    if v.get('bazaar'):\n",
    "        bazaar_items.append(k)"
   ],
   "metadata": {
    "collapsed": false,
    "pycharm": {
     "name": "#%%\n"
    }
   }
  },
  {
   "cell_type": "code",
   "execution_count": null,
   "outputs": [],
   "source": [
    "for item in bazaar_items:\n",
    "    print(item)\n",
    "    with WebDriver(webdriver.Safari()) as wd:\n",
    "        wd.get(f\"https://skyblock-tool.xyz/product.php?name={item}\")\n",
    "        time.sleep(1)\n",
    "        data = wd.page_source\n",
    "\n",
    "\n",
    "\n",
    "    dataloc = list(re.finditer('name: .*?,', data))\n",
    "    start = dataloc[-1].start()\n",
    "    length = data[dataloc[-1].end():].find('</script>')\n",
    "    data_iter = re.finditer('\"x\":(.*?),\"y\":(.*?)}', data[start:start + length])\n",
    "    t = []\n",
    "    price = []\n",
    "    for m in data_iter:\n",
    "        t.append(m.group(1))\n",
    "        price.append(m.group(2))\n",
    "\n",
    "    if df is not None:\n",
    "        df= df.append(pd.DataFrame({'item': item, 'type': 'sell', 'time': pd.to_datetime(t, utc=True, unit='ms'),\n",
    "                       'price': price}), ignore_index=True)\n",
    "    else:\n",
    "        df = pd.DataFrame({'item': item, 'type': 'sell', 'time': pd.to_datetime(t, utc=True, unit='ms'),\n",
    "                           'price': price})\n",
    "\n",
    "    start = dataloc[-1].start()\n",
    "    length = data[dataloc[-1].end():].find('</script>')\n",
    "    data_iter = re.finditer('\"x\":(.*?),\"y\":(.*?)}', data[start:start + length])\n",
    "\n",
    "    data_iter = re.finditer('\"x\":(.*?),\"y\":(.*?)}', data[dataloc[-2].end():dataloc[-1].start()])\n",
    "    t = []\n",
    "    price = []\n",
    "    for m in data_iter:\n",
    "        t.append(m.group(1))\n",
    "        price.append(m.group(2))\n",
    "    df = df.append(pd.DataFrame({'item': item, 'type': 'buy', 'time': pd.to_datetime(t, utc=True, unit='ms'),\n",
    "                       'price': price}), ignore_index=True)"
   ],
   "metadata": {
    "collapsed": false,
    "pycharm": {
     "name": "#%%\n"
    }
   }
  },
  {
   "cell_type": "code",
   "execution_count": 23,
   "outputs": [],
   "source": [
    "#df.to_csv('./BazaarMay6.csv',index=False)\n",
    "df = pd.read_csv('./BazaarMay6.csv')\n",
    "df=df.astype({'item':'category', 'type':'category', 'price':'float', 'time':'datetime64'})\n"
   ],
   "metadata": {
    "collapsed": false,
    "pycharm": {
     "name": "#%%\n"
    }
   }
  },
  {
   "cell_type": "code",
   "execution_count": null,
   "outputs": [],
   "source": [
    "fig_dict = {\n",
    "    \"data\": [],\n",
    "    \"layout\": {},\n",
    "    \"frames\": []\n",
    "}\n",
    "df_grouped=df.groupby(['type','item'])\n",
    "for group in df2.groups:\n",
    "    df3=[]\n",
    "    df3 = df2.get_group(group)\n",
    "    data_dict = {\n",
    "        \"x\": df3['time'],\n",
    "        \"y\": df3['price'],\n",
    "        \"mode\": \"lines\",\n",
    "        \"name\": f'{group[0]} {group[1]}'\n",
    "    }\n",
    "    fig_dict[\"data\"].append(data_dict)"
   ],
   "metadata": {
    "collapsed": false,
    "pycharm": {
     "name": "#%%\n"
    }
   }
  },
  {
   "cell_type": "code",
   "execution_count": null,
   "outputs": [],
   "source": [
    "fig = go.Figure(data=fig_dict)\n",
    "fig.show()"
   ],
   "metadata": {
    "collapsed": false,
    "pycharm": {
     "name": "#%%\n"
    }
   }
  },
  {
   "cell_type": "code",
   "execution_count": 25,
   "outputs": [
    {
     "name": "stdout",
     "output_type": "stream",
     "text": [
      "Index        128\n",
      "item      262824\n",
      "type      128164\n",
      "time     1024544\n",
      "price    1024544\n",
      "dtype: int64\n",
      "item           category\n",
      "type           category\n",
      "time     datetime64[ns]\n",
      "price           float64\n",
      "dtype: object\n"
     ]
    }
   ],
   "source": [
    "print(df.memory_usage())\n",
    "print(df.dtypes)"
   ],
   "metadata": {
    "collapsed": false,
    "pycharm": {
     "name": "#%%\n"
    }
   }
  },
  {
   "cell_type": "code",
   "execution_count": 3,
   "outputs": [],
   "source": [
    "df.drop(df.columns[0],axis=1,inplace=True)"
   ],
   "metadata": {
    "collapsed": false,
    "pycharm": {
     "name": "#%%\n"
    }
   }
  },
  {
   "cell_type": "code",
   "execution_count": 76,
   "outputs": [],
   "source": [
    "df2=df.set_index(keys=['item','time','type'])\n",
    "df2.sort_index(level=['item','time', 'type'], ascending=[1, 1, 0], inplace=True)"
   ],
   "metadata": {
    "collapsed": false,
    "pycharm": {
     "name": "#%%\n"
    }
   }
  },
  {
   "cell_type": "code",
   "execution_count": 77,
   "outputs": [],
   "source": [
    "ix = pd.IndexSlice\n",
    "\n"
   ],
   "metadata": {
    "collapsed": false,
    "pycharm": {
     "name": "#%%\n"
    }
   }
  },
  {
   "cell_type": "code",
   "execution_count": 78,
   "outputs": [
    {
     "data": {
      "text/plain": "                                                    price\nitem           time                    type              \nYOUNG_FRAGMENT 2020-04-29 11:52:11.123 buy   15773.159290\n               2020-04-29 12:22:11.075 buy   15795.649937\n               2020-04-29 12:52:11.075 buy   15828.638519\n               2020-04-29 13:22:11.075 buy   16826.804878\n               2020-04-29 13:52:11.225 buy   17277.329248\n...                                                   ...\n               2020-05-06 09:54:49.476 buy   16071.837724\n               2020-05-06 10:24:49.475 buy   16041.647740\n               2020-05-06 10:54:49.460 buy   16066.439339\n               2020-05-06 11:24:49.434 buy   16132.235874\n               2020-05-06 11:33:49.468 buy   16219.925000\n\n[342 rows x 1 columns]",
      "text/html": "<div>\n<style scoped>\n    .dataframe tbody tr th:only-of-type {\n        vertical-align: middle;\n    }\n\n    .dataframe tbody tr th {\n        vertical-align: top;\n    }\n\n    .dataframe thead th {\n        text-align: right;\n    }\n</style>\n<table border=\"1\" class=\"dataframe\">\n  <thead>\n    <tr style=\"text-align: right;\">\n      <th></th>\n      <th></th>\n      <th></th>\n      <th>price</th>\n    </tr>\n    <tr>\n      <th>item</th>\n      <th>time</th>\n      <th>type</th>\n      <th></th>\n    </tr>\n  </thead>\n  <tbody>\n    <tr>\n      <th rowspan=\"11\" valign=\"top\">YOUNG_FRAGMENT</th>\n      <th>2020-04-29 11:52:11.123</th>\n      <th>buy</th>\n      <td>15773.159290</td>\n    </tr>\n    <tr>\n      <th>2020-04-29 12:22:11.075</th>\n      <th>buy</th>\n      <td>15795.649937</td>\n    </tr>\n    <tr>\n      <th>2020-04-29 12:52:11.075</th>\n      <th>buy</th>\n      <td>15828.638519</td>\n    </tr>\n    <tr>\n      <th>2020-04-29 13:22:11.075</th>\n      <th>buy</th>\n      <td>16826.804878</td>\n    </tr>\n    <tr>\n      <th>2020-04-29 13:52:11.225</th>\n      <th>buy</th>\n      <td>17277.329248</td>\n    </tr>\n    <tr>\n      <th>...</th>\n      <th>...</th>\n      <td>...</td>\n    </tr>\n    <tr>\n      <th>2020-05-06 09:54:49.476</th>\n      <th>buy</th>\n      <td>16071.837724</td>\n    </tr>\n    <tr>\n      <th>2020-05-06 10:24:49.475</th>\n      <th>buy</th>\n      <td>16041.647740</td>\n    </tr>\n    <tr>\n      <th>2020-05-06 10:54:49.460</th>\n      <th>buy</th>\n      <td>16066.439339</td>\n    </tr>\n    <tr>\n      <th>2020-05-06 11:24:49.434</th>\n      <th>buy</th>\n      <td>16132.235874</td>\n    </tr>\n    <tr>\n      <th>2020-05-06 11:33:49.468</th>\n      <th>buy</th>\n      <td>16219.925000</td>\n    </tr>\n  </tbody>\n</table>\n<p>342 rows × 1 columns</p>\n</div>"
     },
     "execution_count": 78,
     "metadata": {},
     "output_type": "execute_result"
    }
   ],
   "source": [
    "df2.loc[('YOUNG_FRAGMENT',slice(None),'buy'),:]\n"
   ],
   "metadata": {
    "collapsed": false,
    "pycharm": {
     "name": "#%%\n"
    }
   }
  },
  {
   "cell_type": "code",
   "execution_count": 98,
   "outputs": [
    {
     "data": {
      "text/plain": "                                                    price\nitem           time                    type              \nBLAZE_ROD      2020-04-29 11:22:11.118 buy      27.932244\n               2020-04-29 11:52:11.123 buy      27.710173\n               2020-04-29 12:22:11.075 buy      27.444207\n               2020-04-29 12:52:11.075 buy      27.350466\n               2020-04-29 13:22:11.075 buy      27.449583\n...                                                   ...\nYOUNG_FRAGMENT 2020-05-02 21:52:11.098 buy   17217.579080\n               2020-05-02 22:22:11.101 buy   17223.192185\n               2020-05-02 22:52:11.075 buy   17224.816391\n               2020-05-02 23:22:11.101 buy   17216.741607\n               2020-05-02 23:52:11.108 buy   17219.628289\n\n[32307 rows x 1 columns]",
      "text/html": "<div>\n<style scoped>\n    .dataframe tbody tr th:only-of-type {\n        vertical-align: middle;\n    }\n\n    .dataframe tbody tr th {\n        vertical-align: top;\n    }\n\n    .dataframe thead th {\n        text-align: right;\n    }\n</style>\n<table border=\"1\" class=\"dataframe\">\n  <thead>\n    <tr style=\"text-align: right;\">\n      <th></th>\n      <th></th>\n      <th></th>\n      <th>price</th>\n    </tr>\n    <tr>\n      <th>item</th>\n      <th>time</th>\n      <th>type</th>\n      <th></th>\n    </tr>\n  </thead>\n  <tbody>\n    <tr>\n      <th rowspan=\"5\" valign=\"top\">BLAZE_ROD</th>\n      <th>2020-04-29 11:22:11.118</th>\n      <th>buy</th>\n      <td>27.932244</td>\n    </tr>\n    <tr>\n      <th>2020-04-29 11:52:11.123</th>\n      <th>buy</th>\n      <td>27.710173</td>\n    </tr>\n    <tr>\n      <th>2020-04-29 12:22:11.075</th>\n      <th>buy</th>\n      <td>27.444207</td>\n    </tr>\n    <tr>\n      <th>2020-04-29 12:52:11.075</th>\n      <th>buy</th>\n      <td>27.350466</td>\n    </tr>\n    <tr>\n      <th>2020-04-29 13:22:11.075</th>\n      <th>buy</th>\n      <td>27.449583</td>\n    </tr>\n    <tr>\n      <th>...</th>\n      <th>...</th>\n      <th>...</th>\n      <td>...</td>\n    </tr>\n    <tr>\n      <th rowspan=\"5\" valign=\"top\">YOUNG_FRAGMENT</th>\n      <th>2020-05-02 21:52:11.098</th>\n      <th>buy</th>\n      <td>17217.579080</td>\n    </tr>\n    <tr>\n      <th>2020-05-02 22:22:11.101</th>\n      <th>buy</th>\n      <td>17223.192185</td>\n    </tr>\n    <tr>\n      <th>2020-05-02 22:52:11.075</th>\n      <th>buy</th>\n      <td>17224.816391</td>\n    </tr>\n    <tr>\n      <th>2020-05-02 23:22:11.101</th>\n      <th>buy</th>\n      <td>17216.741607</td>\n    </tr>\n    <tr>\n      <th>2020-05-02 23:52:11.108</th>\n      <th>buy</th>\n      <td>17219.628289</td>\n    </tr>\n  </tbody>\n</table>\n<p>32307 rows × 1 columns</p>\n</div>"
     },
     "execution_count": 98,
     "metadata": {},
     "output_type": "execute_result"
    }
   ],
   "source": [
    "df2.loc[ix[:,'2020-04':'2020-05-02','buy'],:]\n"
   ],
   "metadata": {
    "collapsed": false,
    "pycharm": {
     "name": "#%%\n"
    }
   }
  },
  {
   "cell_type": "code",
   "execution_count": null,
   "outputs": [],
   "source": [
    "\n"
   ],
   "metadata": {
    "collapsed": false,
    "pycharm": {
     "name": "#%%\n"
    }
   }
  }
 ],
 "metadata": {
  "kernelspec": {
   "display_name": "Python 3",
   "language": "python",
   "name": "python3"
  },
  "language_info": {
   "codemirror_mode": {
    "name": "ipython",
    "version": 2
   },
   "file_extension": ".py",
   "mimetype": "text/x-python",
   "name": "python",
   "nbconvert_exporter": "python",
   "pygments_lexer": "ipython2",
   "version": "2.7.6"
  }
 },
 "nbformat": 4,
 "nbformat_minor": 0
}